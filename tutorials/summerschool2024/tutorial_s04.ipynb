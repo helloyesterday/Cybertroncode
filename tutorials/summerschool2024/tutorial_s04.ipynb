{
 "cells": [
  {
   "cell_type": "markdown",
   "metadata": {},
   "source": [
    "Copyright 2021-2024 @ Shenzhen Bay Laboratory & Peking University & Huawei Technologies Co., Ltd\n",
    "\n",
    "This code is a part of MindSPONGE:\n",
    "MindSpore Simulation Package tOwards Next Generation molecular modelling.\n",
    "\n",
    "MindSPONGE is open-source software based on the AI-framework:\n",
    "MindSpore (https://www.mindspore.cn/)\n",
    "\n",
    "Licensed under the Apache License, Version 2.0 (the \"License\");\n",
    "you may not use this file except in compliance with the License.\n",
    "\n",
    "You may obtain a copy of the License at http://www.apache.org/licenses/LICENSE-2.0\n",
    "\n",
    "Unless required by applicable law or agreed to in writing, software\n",
    "distributed under the License is distributed on an \"AS IS\" BASIS,\n",
    "WITHOUT WARRANTIES OR CONDITIONS OF ANY KIND, either express or implied.\n",
    "\n",
    "See the License for the specific language governing permissions and\n",
    "limitations under the License.\n"
   ]
  },
  {
   "cell_type": "markdown",
   "metadata": {},
   "source": [
    "Training discriminator."
   ]
  },
  {
   "cell_type": "markdown",
   "metadata": {},
   "source": [
    "配置环境, 导入必要的包"
   ]
  },
  {
   "cell_type": "code",
   "execution_count": 1,
   "metadata": {},
   "outputs": [],
   "source": [
    "import sys\n",
    "import numpy as np\n",
    "import time\n",
    "import h5py\n",
    "import mindspore as ms\n",
    "from mindspore import nn\n",
    "from mindspore import Tensor\n",
    "from mindspore import dataset as ds\n",
    "from mindspore.ops import functional as F\n",
    "from mindspore.train import Model\n",
    "from mindspore.train.callback import ModelCheckpoint, CheckpointConfig\n",
    "from mindspore import context\n",
    "\n",
    "import sys\n",
    "import os\n",
    "os.environ['MINDSPONGE_HOME']='/home/mindspore/work/summerschool/mindscience/MindSPONGE/src'\n",
    "os.environ['GLOG_v']=str(4)\n",
    "path = os.getenv('MINDSPONGE_HOME')\n",
    "if path:\n",
    "    sys.path.insert(0, path)\n",
    "sys.path.append('../..')\n",
    "data_dir = './data'\n",
    "\n",
    "from cybertron.model import MolCT\n",
    "from cybertron.embedding import MolEmbedding\n",
    "from cybertron.readout import AtomwiseReadout\n",
    "from cybertron.cybertron import Cybertron\n",
    "from cybertron.train import TransformerLR\n",
    "from cybertron.train import TrainMonitor\n",
    "from cybertron.train import WithAdversarialLossCell\n",
    "from cybertron.train import CrossEntropyLoss\n",
    "from cybertron.train.metric import MAE, RMSE, Loss"
   ]
  },
  {
   "cell_type": "markdown",
   "metadata": {},
   "source": [
    "定义二分类loss"
   ]
  },
  {
   "cell_type": "code",
   "execution_count": 2,
   "metadata": {},
   "outputs": [],
   "source": [
    "class BCELossForDiscriminator(nn.Cell):\n",
    "    def __init__(self, reduction: str = 'mean'):\n",
    "        super().__init__()\n",
    "\n",
    "        self.cross_entropy = nn.BCEWithLogitsLoss(reduction)\n",
    "\n",
    "    def construct(self, pos_pred: Tensor, neg_pred: Tensor):\n",
    "        \"\"\"calculate cross entropy loss function\n",
    "\n",
    "        Args:\n",
    "            pos_pred (Tensor):  Positive samples\n",
    "            neg_pred (Tensor):  Negative samples\n",
    "\n",
    "        Returns:\n",
    "            loss (Tensor):      Loss function with same shape of samples\n",
    "\n",
    "        \"\"\"\n",
    "        pos_loss = self.cross_entropy(pos_pred, F.ones_like(pos_pred))\n",
    "        neg_loss = self.cross_entropy(neg_pred, F.zeros_like(neg_pred))\n",
    "\n",
    "        return pos_loss + neg_loss, None, None, None"
   ]
  },
  {
   "cell_type": "code",
   "execution_count": 3,
   "metadata": {},
   "outputs": [],
   "source": [
    "context.set_context(mode=context.PYNATIVE_MODE, device_target=\"Ascend\")"
   ]
  },
  {
   "cell_type": "markdown",
   "metadata": {},
   "source": [
    "加载数据集, 其中正样本为训练模型用的数据集, 负样本为模拟轨迹中的构象\n",
    "这样的选择是为了识别训练数据集没有见过的分子构象"
   ]
  },
  {
   "cell_type": "code",
   "execution_count": 4,
   "metadata": {},
   "outputs": [],
   "source": [
    "ori_train_set = data_dir + '/dataset/data_normed_trainset_83197_64_64.npz'\n",
    "ori_train_set = np.load(ori_train_set)\n",
    "Z = ori_train_set['atom_type']\n",
    "pos_data = ori_train_set['coordinate']\n",
    "\n",
    "atom_type = Tensor(Z,ms.int32)\n",
    "num_atom = int(atom_type.shape[-1])\n",
    "\n",
    "data_num = pos_data.shape[0]\n",
    "traj_file = data_dir + '/traj/PES_4-100000-800K-bias-NORMAL2.h5md'\n",
    "traj = h5py.File(traj_file)['particles/trajectory0/position/value']\n",
    "neg_data = np.array(traj,dtype=np.float32)[np.random.choice(traj.shape[0],data_num,replace=False)]"
   ]
  },
  {
   "cell_type": "markdown",
   "metadata": {},
   "source": [
    "设置模型超参数"
   ]
  },
  {
   "cell_type": "code",
   "execution_count": 5,
   "metadata": {},
   "outputs": [],
   "source": [
    "dim_feature = 128\n",
    "activation = 'silu'\n",
    "\n",
    "emb = MolEmbedding(\n",
    "    dim_node=dim_feature,\n",
    "    emb_dis=True,\n",
    "    emb_bond=False,\n",
    "    cutoff=1,\n",
    "    cutoff_fn='smooth',\n",
    "    rbf_fn='log_gaussian',\n",
    "    activation=activation,\n",
    "    length_unit='nm',\n",
    ")\n",
    "\n",
    "mod = MolCT(\n",
    "    dim_feature=dim_feature,\n",
    "    dim_edge_emb=emb.dim_edge,\n",
    "    n_interaction=3,\n",
    "    n_heads=8,\n",
    "    activation=activation,\n",
    ")\n",
    "\n",
    "readout = AtomwiseReadout(\n",
    "    dim_output=1,\n",
    "    dim_node_rep=dim_feature,\n",
    "    activation=activation,\n",
    ")\n",
    "\n",
    "net = Cybertron(embedding=emb, model=mod, readout=readout, atom_type=atom_type, length_unit='nm')"
   ]
  },
  {
   "cell_type": "markdown",
   "metadata": {},
   "source": [
    "打印模型情况"
   ]
  },
  {
   "cell_type": "code",
   "execution_count": 6,
   "metadata": {},
   "outputs": [
    {
     "name": "stdout",
     "output_type": "stream",
     "text": [
      "================================================================================\n",
      "Cybertron Engine, Ride-on!\n",
      "--------------------------------------------------------------------------------\n",
      "    Using fixed atom type index:\n",
      "       Atom 0      : 8\n",
      "       Atom 1      : 6\n",
      "       Atom 2      : 6\n",
      "       Atom 3      : 6\n",
      "       Atom 4      : 6\n",
      "       Atom 5      : 6\n",
      "       Atom 6      : 6\n",
      "       Atom 7      : 1\n",
      "       Atom 8      : 1\n",
      "       Atom 9      : 1\n",
      "       Atom 10     : 1\n",
      "       Atom 11     : 1\n",
      "       Atom 12     : 1\n",
      "       Atom 13     : 1\n",
      "       Atom 14     : 1\n",
      "--------------------------------------------------------------------------------\n",
      "    Graph Embedding: MolEmbedding\n",
      "--------------------------------------------------------------------------------\n",
      "       Length unit: nm\n",
      "       Atom embedding size: 64\n",
      "       Cutoff distance: 1.0 nm\n",
      "       Cutoff function: SmoothCutoff\n",
      "       Radical basis functions: LogGaussianBasis\n",
      "          Minimum distance: 0.04 nm\n",
      "          Maximum distance: 1.0 nm\n",
      "          Reference distance: 1.0 nm\n",
      "          Log Gaussian begin: -3.218876\n",
      "          Log Gaussian end: 0.006724119\n",
      "          Interval for log Gaussian: 0.0512\n",
      "          Sigma for log gaussian: 0.3\n",
      "          Number of basis functions: 64\n",
      "          Rescale the range of RBF to (-1, 1).\n",
      "       Embedding distance: True\n",
      "       Embedding Bond: False\n",
      "       Dimension of node embedding vector: 128\n",
      "       Dimension of edge embedding vector: 64\n",
      "--------------------------------------------------------------------------------\n",
      "    Deep molecular model: MolCT\n",
      "--------------------------------------------------------------------------------\n",
      "       Dimension of node representation vector: 128\n",
      "       Dimension of edge representation vector: 128\n",
      "       Dimension of node embedding vector: 128\n",
      "       Dimension of edge embedding vector: 64\n",
      "       Using 3 independent interaction layers:\n",
      "       0. NeuralInteractionUnit\n",
      "          Feature dimension: 128\n",
      "          Activation function: SiLU\n",
      "          Number of heads in multi-haed attention: 8\n",
      "          Use feed forward network: No\n",
      "       1. NeuralInteractionUnit\n",
      "          Feature dimension: 128\n",
      "          Activation function: SiLU\n",
      "          Number of heads in multi-haed attention: 8\n",
      "          Use feed forward network: No\n",
      "       2. NeuralInteractionUnit\n",
      "          Feature dimension: 128\n",
      "          Activation function: SiLU\n",
      "          Number of heads in multi-haed attention: 8\n",
      "          Use feed forward network: No\n",
      "--------------------------------------------------------------------------------\n",
      "    With 1 readout networks: \n",
      "--------------------------------------------------------------------------------\n",
      "    0. AtomwiseReadout\n",
      "       Activation function: SiLU<>\n",
      "       Decoder: HalveDecoder\n",
      "       Aggregator: TensorSummation\n",
      "       Representation dimension: 128\n",
      "       Readout dimension: 1\n",
      "       Reduce axis: -2\n",
      "--------------------------------------------------------------------------------\n",
      "       Scale: [1.]\n",
      "       Shift: [0.]\n",
      "       Reference value for atom types: 0.0\n",
      "       Scale the shift by the number of atoms: True\n",
      "--------------------------------------------------------------------------------\n",
      "    Input unit: nm\n",
      "    Output unit: None\n",
      "    Input unit scale: 1.0\n",
      "================================================================================\n",
      "0 embedding.atom_embedding.embedding_table (64, 128)\n",
      "1 model.filter_net.linear.weight (128, 64)\n",
      "2 model.filter_net.linear.bias (128,)\n",
      "3 model.filter_net.residual.nonlinear.mlp.0.weight (128, 128)\n",
      "4 model.filter_net.residual.nonlinear.mlp.0.bias (128,)\n",
      "5 model.filter_net.residual.nonlinear.mlp.1.weight (128, 128)\n",
      "6 model.filter_net.residual.nonlinear.mlp.1.bias (128,)\n",
      "7 model.interaction.0.positional_embedding.norm.gamma (128,)\n",
      "8 model.interaction.0.positional_embedding.norm.beta (128,)\n",
      "9 model.interaction.0.positional_embedding.x2q.weight (128, 128)\n",
      "10 model.interaction.0.positional_embedding.x2k.weight (128, 128)\n",
      "11 model.interaction.0.positional_embedding.x2v.weight (128, 128)\n",
      "12 model.interaction.0.multi_head_attention.output.weight (128, 128)\n",
      "13 model.interaction.1.positional_embedding.norm.gamma (128,)\n",
      "14 model.interaction.1.positional_embedding.norm.beta (128,)\n",
      "15 model.interaction.1.positional_embedding.x2q.weight (128, 128)\n",
      "16 model.interaction.1.positional_embedding.x2k.weight (128, 128)\n",
      "17 model.interaction.1.positional_embedding.x2v.weight (128, 128)\n",
      "18 model.interaction.1.multi_head_attention.output.weight (128, 128)\n",
      "19 model.interaction.2.positional_embedding.norm.gamma (128,)\n",
      "20 model.interaction.2.positional_embedding.norm.beta (128,)\n",
      "21 model.interaction.2.positional_embedding.x2q.weight (128, 128)\n",
      "22 model.interaction.2.positional_embedding.x2k.weight (128, 128)\n",
      "23 model.interaction.2.positional_embedding.x2v.weight (128, 128)\n",
      "24 model.interaction.2.multi_head_attention.output.weight (128, 128)\n",
      "25 readout.0.decoder.output.mlp.0.weight (64, 128)\n",
      "26 readout.0.decoder.output.mlp.0.bias (64,)\n",
      "27 readout.0.decoder.output.mlp.1.weight (1, 64)\n",
      "28 readout.0.decoder.output.mlp.1.bias (1,)\n",
      "Total parameters:  255233\n"
     ]
    }
   ],
   "source": [
    "net.print_info()\n",
    "tot_params = 0\n",
    "for i,param in enumerate(net.trainable_params()):\n",
    "    tot_params += param.size\n",
    "    print(i,param.name,param.shape)\n",
    "print('Total parameters: ',tot_params)"
   ]
  },
  {
   "cell_type": "markdown",
   "metadata": {},
   "source": [
    "划分数据集, 包装loss+网络和evaluation+网络"
   ]
  },
  {
   "cell_type": "code",
   "execution_count": 7,
   "metadata": {},
   "outputs": [],
   "source": [
    "n_epoch = 40\n",
    "repeat_time = 1\n",
    "batch_size = 64\n",
    "val_size = 32\n",
    "\n",
    "idx = np.random.choice(np.arange(data_num), val_size, replace=False)\n",
    "train_idx = np.setdiff1d(np.arange(data_num), idx)\n",
    "\n",
    "ds_train_dsc = ds.NumpySlicesDataset({'pos':pos_data[train_idx],'neg':neg_data[train_idx]},shuffle=True)\n",
    "ds_val_dsc = ds.NumpySlicesDataset({'pos':pos_data[idx],'neg':neg_data[idx]},shuffle=True)\n",
    "ds_train_dsc = ds_train_dsc.batch(batch_size)\n",
    "ds_train_dsc = ds_train_dsc.repeat(repeat_time)\n",
    "ds_val_dsc = ds_val_dsc.batch(batch_size)\n",
    "ds_val_dsc = ds_val_dsc.repeat(repeat_time)\n",
    "loss_fn = BCELossForDiscriminator()\n",
    "loss_network = WithAdversarialLossCell(net,loss_fn)\n",
    "eval_network = WithAdversarialLossCell(net,loss_fn)"
   ]
  },
  {
   "cell_type": "markdown",
   "metadata": {},
   "source": [
    "设置学习率和优化器, 包装训练模型"
   ]
  },
  {
   "cell_type": "code",
   "execution_count": 8,
   "metadata": {},
   "outputs": [
    {
     "name": "stderr",
     "output_type": "stream",
     "text": [
      "[ERROR] CORE(3881892,7f115b98c740,python):2024-08-19-16:40:36.196.866 [mindspore/core/utils/file_utils.cc:253] GetRealPath] Get realpath failed, path[/tmp/ipykernel_3881892/368653846.py]\n",
      "[ERROR] CORE(3881892,7f115b98c740,python):2024-08-19-16:40:36.196.889 [mindspore/core/utils/file_utils.cc:253] GetRealPath] Get realpath failed, path[/tmp/ipykernel_3881892/368653846.py]\n",
      "[ERROR] CORE(3881892,7f115b98c740,python):2024-08-19-16:40:36.196.920 [mindspore/core/utils/file_utils.cc:253] GetRealPath] Get realpath failed, path[/tmp/ipykernel_3881892/368653846.py]\n",
      "[ERROR] CORE(3881892,7f115b98c740,python):2024-08-19-16:40:36.196.932 [mindspore/core/utils/file_utils.cc:253] GetRealPath] Get realpath failed, path[/tmp/ipykernel_3881892/368653846.py]\n",
      "[ERROR] CORE(3881892,7f115b98c740,python):2024-08-19-16:40:36.243.493 [mindspore/core/utils/file_utils.cc:253] GetRealPath] Get realpath failed, path[/tmp/ipykernel_3881892/368653846.py]\n",
      "[ERROR] CORE(3881892,7f115b98c740,python):2024-08-19-16:40:36.243.506 [mindspore/core/utils/file_utils.cc:253] GetRealPath] Get realpath failed, path[/tmp/ipykernel_3881892/368653846.py]\n",
      "[ERROR] CORE(3881892,7f115b98c740,python):2024-08-19-16:40:36.243.516 [mindspore/core/utils/file_utils.cc:253] GetRealPath] Get realpath failed, path[/tmp/ipykernel_3881892/368653846.py]\n"
     ]
    },
    {
     "data": {
      "text/plain": [
       "{'EvalLoss': 18.43325424194336}"
      ]
     },
     "execution_count": 8,
     "metadata": {},
     "output_type": "execute_result"
    }
   ],
   "source": [
    "lr = TransformerLR(learning_rate=.3, warmup_steps=8000, dimension=128) # smaller\n",
    "optim = nn.Adam(params=net.trainable_params(), learning_rate=lr)\n",
    "eval_loss = 'EvalLoss'\n",
    "neg_loss = 'NegLoss'\n",
    "model = Model(loss_network,eval_network=eval_network, optimizer=optim,metrics={eval_loss:Loss()}) \n",
    "model.eval(ds_val_dsc,dataset_sink_mode=False)"
   ]
  },
  {
   "cell_type": "markdown",
   "metadata": {},
   "source": [
    "保存网络设置, 设置模型checkpoint保存情况和模型训练情况"
   ]
  },
  {
   "cell_type": "code",
   "execution_count": 9,
   "metadata": {},
   "outputs": [],
   "source": [
    "conf_dir = data_dir + '/conf'\n",
    "net.save_configure('configure_discr' + '.yaml' , conf_dir)\n",
    "outname = 'discr_' + net.model_name\n",
    "ckpt_dir = data_dir + '/ckpt'\n",
    "record_cb = TrainMonitor(model, outname, per_epoch=1, avg_steps=32, directory=ckpt_dir, eval_dataset=ds_val_dsc, best_ckpt_metrics=eval_loss)\n",
    "config_ck = CheckpointConfig(save_checkpoint_steps=8, keep_checkpoint_max=8)\n",
    "ckpoint_cb = ModelCheckpoint(prefix=outname, directory=ckpt_dir, config=config_ck)"
   ]
  },
  {
   "cell_type": "markdown",
   "metadata": {},
   "source": [
    "开始训练"
   ]
  },
  {
   "cell_type": "code",
   "execution_count": 10,
   "metadata": {},
   "outputs": [
    {
     "name": "stderr",
     "output_type": "stream",
     "text": [
      "[WARNING] ME(3881892:139712527910720,MainProcess):2024-08-19-16:40:50.995.340 [mindspore/train/model.py:1118] For TrainMonitor callback, {'epoch_end', 'step_end', 'begin'} methods may not be supported in later version, Use methods prefixed with 'on_train' or 'on_eval' instead when using customized callbacks.\n"
     ]
    },
    {
     "name": "stdout",
     "output_type": "stream",
     "text": [
      "Start training ...\n"
     ]
    },
    {
     "name": "stderr",
     "output_type": "stream",
     "text": [
      "[ERROR] CORE(3881892,7f115b98c740,python):2024-08-19-16:40:52.956.439 [mindspore/core/utils/file_utils.cc:253] GetRealPath] Get realpath failed, path[/tmp/ipykernel_3881892/368653846.py]\n",
      "[ERROR] CORE(3881892,7f115b98c740,python):2024-08-19-16:40:52.956.455 [mindspore/core/utils/file_utils.cc:253] GetRealPath] Get realpath failed, path[/tmp/ipykernel_3881892/368653846.py]\n",
      "[ERROR] CORE(3881892,7f115b98c740,python):2024-08-19-16:40:52.956.478 [mindspore/core/utils/file_utils.cc:253] GetRealPath] Get realpath failed, path[/tmp/ipykernel_3881892/368653846.py]\n",
      "[ERROR] CORE(3881892,7f115b98c740,python):2024-08-19-16:40:52.956.493 [mindspore/core/utils/file_utils.cc:253] GetRealPath] Get realpath failed, path[/tmp/ipykernel_3881892/368653846.py]\n",
      "[ERROR] CORE(3881892,7f115b98c740,python):2024-08-19-16:40:52.956.510 [mindspore/core/utils/file_utils.cc:253] GetRealPath] Get realpath failed, path[/tmp/ipykernel_3881892/368653846.py]\n",
      "[ERROR] CORE(3881892,7f115b98c740,python):2024-08-19-16:40:52.959.580 [mindspore/core/utils/file_utils.cc:253] GetRealPath] Get realpath failed, path[/tmp/ipykernel_3881892/368653846.py]\n",
      "[ERROR] CORE(3881892,7f115b98c740,python):2024-08-19-16:40:52.959.591 [mindspore/core/utils/file_utils.cc:253] GetRealPath] Get realpath failed, path[/tmp/ipykernel_3881892/368653846.py]\n",
      "[ERROR] CORE(3881892,7f115b98c740,python):2024-08-19-16:40:52.959.605 [mindspore/core/utils/file_utils.cc:253] GetRealPath] Get realpath failed, path[/tmp/ipykernel_3881892/368653846.py]\n",
      "[ERROR] CORE(3881892,7f115b98c740,python):2024-08-19-16:40:52.959.613 [mindspore/core/utils/file_utils.cc:253] GetRealPath] Get realpath failed, path[/tmp/ipykernel_3881892/368653846.py]\n",
      "[ERROR] CORE(3881892,7f115b98c740,python):2024-08-19-16:40:52.959.628 [mindspore/core/utils/file_utils.cc:253] GetRealPath] Get realpath failed, path[/tmp/ipykernel_3881892/368653846.py]\n",
      "[ERROR] CORE(3881892,7f115b98c740,python):2024-08-19-16:40:52.959.636 [mindspore/core/utils/file_utils.cc:253] GetRealPath] Get realpath failed, path[/tmp/ipykernel_3881892/368653846.py]\n",
      "[ERROR] CORE(3881892,7f115b98c740,python):2024-08-19-16:40:52.959.837 [mindspore/core/utils/file_utils.cc:253] GetRealPath] Get realpath failed, path[/tmp/ipykernel_3881892/368653846.py]\n",
      "[ERROR] CORE(3881892,7f115b98c740,python):2024-08-19-16:40:52.960.087 [mindspore/core/utils/file_utils.cc:253] GetRealPath] Get realpath failed, path[/tmp/ipykernel_3881892/368653846.py]\n",
      "[ERROR] CORE(3881892,7f115b98c740,python):2024-08-19-16:40:52.960.096 [mindspore/core/utils/file_utils.cc:253] GetRealPath] Get realpath failed, path[/tmp/ipykernel_3881892/368653846.py]\n",
      "[ERROR] CORE(3881892,7f115b98c740,python):2024-08-19-16:40:52.960.125 [mindspore/core/utils/file_utils.cc:253] GetRealPath] Get realpath failed, path[/tmp/ipykernel_3881892/368653846.py]\n",
      "[ERROR] CORE(3881892,7f115b98c740,python):2024-08-19-16:40:52.960.134 [mindspore/core/utils/file_utils.cc:253] GetRealPath] Get realpath failed, path[/tmp/ipykernel_3881892/368653846.py]\n",
      "[ERROR] CORE(3881892,7f115b98c740,python):2024-08-19-16:40:52.960.163 [mindspore/core/utils/file_utils.cc:253] GetRealPath] Get realpath failed, path[/tmp/ipykernel_3881892/368653846.py]\n",
      "[ERROR] CORE(3881892,7f115b98c740,python):2024-08-19-16:40:52.960.172 [mindspore/core/utils/file_utils.cc:253] GetRealPath] Get realpath failed, path[/tmp/ipykernel_3881892/368653846.py]\n",
      "[ERROR] CORE(3881892,7f115b98c740,python):2024-08-19-16:40:52.960.214 [mindspore/core/utils/file_utils.cc:253] GetRealPath] Get realpath failed, path[/tmp/ipykernel_3881892/368653846.py]\n",
      "[ERROR] CORE(3881892,7f115b98c740,python):2024-08-19-16:40:52.960.221 [mindspore/core/utils/file_utils.cc:253] GetRealPath] Get realpath failed, path[/tmp/ipykernel_3881892/368653846.py]\n",
      "[ERROR] CORE(3881892,7f115b98c740,python):2024-08-19-16:40:53.072.387 [mindspore/core/utils/file_utils.cc:253] GetRealPath] Get realpath failed, path[/tmp/ipykernel_3881892/368653846.py]\n",
      "[ERROR] CORE(3881892,7f115b98c740,python):2024-08-19-16:40:53.072.401 [mindspore/core/utils/file_utils.cc:253] GetRealPath] Get realpath failed, path[/tmp/ipykernel_3881892/368653846.py]\n",
      "[ERROR] CORE(3881892,7f115b98c740,python):2024-08-19-16:40:53.072.409 [mindspore/core/utils/file_utils.cc:253] GetRealPath] Get realpath failed, path[/tmp/ipykernel_3881892/368653846.py]\n",
      "[ERROR] CORE(3881892,7f115b98c740,python):2024-08-19-16:40:58.373.696 [mindspore/core/utils/file_utils.cc:253] GetRealPath] Get realpath failed, path[/tmp/ipykernel_3881892/368653846.py]\n",
      "[ERROR] CORE(3881892,7f115b98c740,python):2024-08-19-16:40:58.373.712 [mindspore/core/utils/file_utils.cc:253] GetRealPath] Get realpath failed, path[/tmp/ipykernel_3881892/368653846.py]\n",
      "[ERROR] CORE(3881892,7f115b98c740,python):2024-08-19-16:40:58.373.737 [mindspore/core/utils/file_utils.cc:253] GetRealPath] Get realpath failed, path[/tmp/ipykernel_3881892/368653846.py]\n",
      "[ERROR] CORE(3881892,7f115b98c740,python):2024-08-19-16:40:58.373.753 [mindspore/core/utils/file_utils.cc:253] GetRealPath] Get realpath failed, path[/tmp/ipykernel_3881892/368653846.py]\n",
      "[ERROR] CORE(3881892,7f115b98c740,python):2024-08-19-16:40:58.373.771 [mindspore/core/utils/file_utils.cc:253] GetRealPath] Get realpath failed, path[/tmp/ipykernel_3881892/368653846.py]\n",
      "[ERROR] CORE(3881892,7f115b98c740,python):2024-08-19-16:40:58.376.857 [mindspore/core/utils/file_utils.cc:253] GetRealPath] Get realpath failed, path[/tmp/ipykernel_3881892/368653846.py]\n",
      "[ERROR] CORE(3881892,7f115b98c740,python):2024-08-19-16:40:58.376.868 [mindspore/core/utils/file_utils.cc:253] GetRealPath] Get realpath failed, path[/tmp/ipykernel_3881892/368653846.py]\n",
      "[ERROR] CORE(3881892,7f115b98c740,python):2024-08-19-16:40:58.376.882 [mindspore/core/utils/file_utils.cc:253] GetRealPath] Get realpath failed, path[/tmp/ipykernel_3881892/368653846.py]\n",
      "[ERROR] CORE(3881892,7f115b98c740,python):2024-08-19-16:40:58.376.890 [mindspore/core/utils/file_utils.cc:253] GetRealPath] Get realpath failed, path[/tmp/ipykernel_3881892/368653846.py]\n",
      "[ERROR] CORE(3881892,7f115b98c740,python):2024-08-19-16:40:58.376.904 [mindspore/core/utils/file_utils.cc:253] GetRealPath] Get realpath failed, path[/tmp/ipykernel_3881892/368653846.py]\n",
      "[ERROR] CORE(3881892,7f115b98c740,python):2024-08-19-16:40:58.376.912 [mindspore/core/utils/file_utils.cc:253] GetRealPath] Get realpath failed, path[/tmp/ipykernel_3881892/368653846.py]\n",
      "[ERROR] CORE(3881892,7f115b98c740,python):2024-08-19-16:40:58.377.111 [mindspore/core/utils/file_utils.cc:253] GetRealPath] Get realpath failed, path[/tmp/ipykernel_3881892/368653846.py]\n",
      "[ERROR] CORE(3881892,7f115b98c740,python):2024-08-19-16:40:58.377.362 [mindspore/core/utils/file_utils.cc:253] GetRealPath] Get realpath failed, path[/tmp/ipykernel_3881892/368653846.py]\n",
      "[ERROR] CORE(3881892,7f115b98c740,python):2024-08-19-16:40:58.377.377 [mindspore/core/utils/file_utils.cc:253] GetRealPath] Get realpath failed, path[/tmp/ipykernel_3881892/368653846.py]\n",
      "[ERROR] CORE(3881892,7f115b98c740,python):2024-08-19-16:40:58.377.407 [mindspore/core/utils/file_utils.cc:253] GetRealPath] Get realpath failed, path[/tmp/ipykernel_3881892/368653846.py]\n",
      "[ERROR] CORE(3881892,7f115b98c740,python):2024-08-19-16:40:58.377.416 [mindspore/core/utils/file_utils.cc:253] GetRealPath] Get realpath failed, path[/tmp/ipykernel_3881892/368653846.py]\n",
      "[ERROR] CORE(3881892,7f115b98c740,python):2024-08-19-16:40:58.377.445 [mindspore/core/utils/file_utils.cc:253] GetRealPath] Get realpath failed, path[/tmp/ipykernel_3881892/368653846.py]\n",
      "[ERROR] CORE(3881892,7f115b98c740,python):2024-08-19-16:40:58.377.454 [mindspore/core/utils/file_utils.cc:253] GetRealPath] Get realpath failed, path[/tmp/ipykernel_3881892/368653846.py]\n",
      "[ERROR] CORE(3881892,7f115b98c740,python):2024-08-19-16:40:58.377.495 [mindspore/core/utils/file_utils.cc:253] GetRealPath] Get realpath failed, path[/tmp/ipykernel_3881892/368653846.py]\n",
      "[ERROR] CORE(3881892,7f115b98c740,python):2024-08-19-16:40:58.377.502 [mindspore/core/utils/file_utils.cc:253] GetRealPath] Get realpath failed, path[/tmp/ipykernel_3881892/368653846.py]\n",
      "[ERROR] CORE(3881892,7f115b98c740,python):2024-08-19-16:40:58.492.120 [mindspore/core/utils/file_utils.cc:253] GetRealPath] Get realpath failed, path[/tmp/ipykernel_3881892/368653846.py]\n",
      "[ERROR] CORE(3881892,7f115b98c740,python):2024-08-19-16:40:58.492.135 [mindspore/core/utils/file_utils.cc:253] GetRealPath] Get realpath failed, path[/tmp/ipykernel_3881892/368653846.py]\n",
      "[ERROR] CORE(3881892,7f115b98c740,python):2024-08-19-16:40:58.492.143 [mindspore/core/utils/file_utils.cc:253] GetRealPath] Get realpath failed, path[/tmp/ipykernel_3881892/368653846.py]\n"
     ]
    },
    {
     "name": "stdout",
     "output_type": "stream",
     "text": [
      "Epoch: 1, Step: 64, Learning_rate: 2.3346504e-06, Last_Loss: 9.793301, Avg_loss: 13.351794136895073, EvalLoss: 9.605378150939941\n",
      "Epoch: 2, Step: 128, Learning_rate: 4.706359e-06, Last_Loss: 1.5816145, Avg_loss: 1.7781564129723444, EvalLoss: 1.59995436668396\n",
      "Epoch: 3, Step: 192, Learning_rate: 7.078067e-06, Last_Loss: 1.3639992, Avg_loss: 1.4122117947018336, EvalLoss: 1.3273067474365234\n",
      "Epoch: 4, Step: 256, Learning_rate: 9.4497755e-06, Last_Loss: 1.0592549, Avg_loss: 1.1430923825218564, EvalLoss: 1.0671653747558594\n",
      "Epoch: 5, Step: 320, Learning_rate: 1.1821484e-05, Last_Loss: 0.90319586, Avg_loss: 0.9496476006886315, EvalLoss: 0.864309549331665\n",
      "Epoch: 6, Step: 384, Learning_rate: 1.4193192e-05, Last_Loss: 0.7442018, Avg_loss: 0.8159498430433727, EvalLoss: 0.7321667671203613\n",
      "Epoch: 7, Step: 448, Learning_rate: 1.65649e-05, Last_Loss: 0.6547539, Avg_loss: 0.7479302731771318, EvalLoss: 0.6558916568756104\n",
      "Epoch: 8, Step: 512, Learning_rate: 1.8936607e-05, Last_Loss: 0.6546364, Avg_loss: 0.675718625386556, EvalLoss: 0.5956028699874878\n",
      "Epoch: 9, Step: 576, Learning_rate: 2.1308317e-05, Last_Loss: 0.5670686, Avg_loss: 0.6494903044095115, EvalLoss: 0.5733557939529419\n",
      "Epoch: 10, Step: 640, Learning_rate: 2.3680026e-05, Last_Loss: 0.62270975, Avg_loss: 0.5976016332232763, EvalLoss: 0.5343945026397705\n",
      "Epoch: 11, Step: 704, Learning_rate: 2.6051735e-05, Last_Loss: 0.6081568, Avg_loss: 0.5785915879976182, EvalLoss: 0.48125046491622925\n",
      "Epoch: 12, Step: 768, Learning_rate: 2.8423443e-05, Last_Loss: 0.44340828, Avg_loss: 0.5248702457026829, EvalLoss: 0.4473927319049835\n",
      "Epoch: 13, Step: 832, Learning_rate: 3.0795152e-05, Last_Loss: 0.27713808, Avg_loss: 0.5155837739270831, EvalLoss: 0.44181138277053833\n",
      "Epoch: 14, Step: 896, Learning_rate: 3.316686e-05, Last_Loss: 0.58746696, Avg_loss: 0.4819538914968097, EvalLoss: 0.40790480375289917\n",
      "Epoch: 15, Step: 960, Learning_rate: 3.5538567e-05, Last_Loss: 0.29421407, Avg_loss: 0.4543200551517426, EvalLoss: 0.3495274484157562\n",
      "Epoch: 16, Step: 1024, Learning_rate: 3.7910275e-05, Last_Loss: 0.44865045, Avg_loss: 0.4364477154754457, EvalLoss: 0.31480085849761963\n",
      "Epoch: 17, Step: 1088, Learning_rate: 4.0281982e-05, Last_Loss: 0.40369797, Avg_loss: 0.429522072512006, EvalLoss: 0.3007139563560486\n",
      "Epoch: 18, Step: 1152, Learning_rate: 4.265369e-05, Last_Loss: 0.2149928, Avg_loss: 0.40954587265612585, EvalLoss: 0.2664910554885864\n",
      "Epoch: 19, Step: 1216, Learning_rate: 4.50254e-05, Last_Loss: 0.26890677, Avg_loss: 0.3706053088581751, EvalLoss: 0.2631063461303711\n",
      "Epoch: 20, Step: 1280, Learning_rate: 4.739711e-05, Last_Loss: 0.216336, Avg_loss: 0.3518309302273251, EvalLoss: 0.23177000880241394\n",
      "Epoch: 21, Step: 1344, Learning_rate: 4.9768816e-05, Last_Loss: 0.32173103, Avg_loss: 0.36636750612940105, EvalLoss: 0.18209126591682434\n",
      "Epoch: 22, Step: 1408, Learning_rate: 5.2140524e-05, Last_Loss: 0.22031535, Avg_loss: 0.35208204932629117, EvalLoss: 0.16439716517925262\n",
      "Epoch: 23, Step: 1472, Learning_rate: 5.4512235e-05, Last_Loss: 0.4050057, Avg_loss: 0.3650147309378972, EvalLoss: 0.14801593124866486\n",
      "Epoch: 24, Step: 1536, Learning_rate: 5.6883942e-05, Last_Loss: 0.28311545, Avg_loss: 0.32056176473223974, EvalLoss: 0.19373737275600433\n",
      "Epoch: 25, Step: 1600, Learning_rate: 5.9255653e-05, Last_Loss: 0.35412464, Avg_loss: 0.3291052012216477, EvalLoss: 0.24371398985385895\n",
      "Epoch: 26, Step: 1664, Learning_rate: 6.1627354e-05, Last_Loss: 0.29113847, Avg_loss: 0.3241317475598956, EvalLoss: 0.11264191567897797\n",
      "Epoch: 27, Step: 1728, Learning_rate: 6.399907e-05, Last_Loss: 0.1282911, Avg_loss: 0.30580386945179533, EvalLoss: 0.10695316642522812\n",
      "Epoch: 28, Step: 1792, Learning_rate: 6.6370776e-05, Last_Loss: 0.5429989, Avg_loss: 0.31577263796140276, EvalLoss: 0.09447945654392242\n",
      "Epoch: 29, Step: 1856, Learning_rate: 6.874248e-05, Last_Loss: 0.40264335, Avg_loss: 0.35435361190447734, EvalLoss: 0.11636054515838623\n",
      "Epoch: 30, Step: 1920, Learning_rate: 7.111419e-05, Last_Loss: 0.2692973, Avg_loss: 0.25777155208209207, EvalLoss: 0.07986094057559967\n",
      "Epoch: 31, Step: 1984, Learning_rate: 7.34859e-05, Last_Loss: 0.23896551, Avg_loss: 0.24687779115306008, EvalLoss: 0.0762614905834198\n",
      "Epoch: 32, Step: 2048, Learning_rate: 7.585761e-05, Last_Loss: 0.19823843, Avg_loss: 0.24572187047156077, EvalLoss: 0.08129099756479263\n",
      "Epoch: 33, Step: 2112, Learning_rate: 7.8229314e-05, Last_Loss: 0.06062824, Avg_loss: 0.22414958293712328, EvalLoss: 0.06665744632482529\n",
      "Epoch: 34, Step: 2176, Learning_rate: 8.060103e-05, Last_Loss: 0.33470467, Avg_loss: 0.2184462861882316, EvalLoss: 0.05410880595445633\n",
      "Epoch: 35, Step: 2240, Learning_rate: 8.297273e-05, Last_Loss: 0.27822745, Avg_loss: 0.2116619005562767, EvalLoss: 0.09874241799116135\n",
      "Epoch: 36, Step: 2304, Learning_rate: 8.534444e-05, Last_Loss: 0.23399791, Avg_loss: 0.22533965654789456, EvalLoss: 0.0465271919965744\n",
      "Epoch: 37, Step: 2368, Learning_rate: 8.771615e-05, Last_Loss: 0.17162532, Avg_loss: 0.19920989658151353, EvalLoss: 0.061855025589466095\n",
      "Epoch: 38, Step: 2432, Learning_rate: 9.008786e-05, Last_Loss: 0.19922936, Avg_loss: 0.17797091532321202, EvalLoss: 0.03882181644439697\n",
      "Epoch: 39, Step: 2496, Learning_rate: 9.2459566e-05, Last_Loss: 0.25734288, Avg_loss: 0.17003578326058766, EvalLoss: 0.05031875893473625\n",
      "Epoch: 40, Step: 2560, Learning_rate: 9.483127e-05, Last_Loss: 0.070755154, Avg_loss: 0.2231112009003049, EvalLoss: 0.13681042194366455\n",
      "Training Fininshed!\n",
      "Training Time: 00:02:04\n"
     ]
    }
   ],
   "source": [
    "print(\"Start training ...\")\n",
    "beg_time = time.time()\n",
    "model.train(n_epoch,ds_train_dsc,callbacks=[record_cb, ckpoint_cb],dataset_sink_mode=False)\n",
    "end_time = time.time()\n",
    "used_time = end_time - beg_time\n",
    "m, s = divmod(used_time, 60)\n",
    "h, m = divmod(m, 60)\n",
    "print (\"Training Fininshed!\")\n",
    "print (\"Training Time: %02d:%02d:%02d\" % (h, m, s))"
   ]
  }
 ],
 "metadata": {
  "kernelspec": {
   "display_name": "ms22_py39",
   "language": "python",
   "name": "python3"
  },
  "language_info": {
   "codemirror_mode": {
    "name": "ipython",
    "version": 3
   },
   "file_extension": ".py",
   "mimetype": "text/x-python",
   "name": "python",
   "nbconvert_exporter": "python",
   "pygments_lexer": "ipython3",
   "version": "3.9.19"
  }
 },
 "nbformat": 4,
 "nbformat_minor": 2
}
