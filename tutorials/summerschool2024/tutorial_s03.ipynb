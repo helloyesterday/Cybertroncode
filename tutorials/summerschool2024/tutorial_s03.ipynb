{
 "cells": [
  {
   "cell_type": "markdown",
   "metadata": {},
   "source": [
    "Copyright 2021-2024 @ Shenzhen Bay Laboratory & Peking University & Huawei Technologies Co., Ltd\n",
    "\n",
    "This code is a part of MindSPONGE:\n",
    "MindSpore Simulation Package tOwards Next Generation molecular modelling.\n",
    "\n",
    "MindSPONGE is open-source software based on the AI-framework:\n",
    "MindSpore (https://www.mindspore.cn/)\n",
    "\n",
    "Licensed under the Apache License, Version 2.0 (the \"License\");\n",
    "you may not use this file except in compliance with the License.\n",
    "\n",
    "You may obtain a copy of the License at http://www.apache.org/licenses/LICENSE-2.0\n",
    "\n",
    "Unless required by applicable law or agreed to in writing, software\n",
    "distributed under the License is distributed on an \"AS IS\" BASIS,\n",
    "WITHOUT WARRANTIES OR CONDITIONS OF ANY KIND, either express or implied.\n",
    "\n",
    "See the License for the specific language governing permissions and\n",
    "limitations under the License."
   ]
  },
  {
   "cell_type": "markdown",
   "metadata": {},
   "source": [
    "Simulation with trained forcefield."
   ]
  },
  {
   "cell_type": "markdown",
   "metadata": {},
   "source": [
    "配置环境, 导入必要的包"
   ]
  },
  {
   "cell_type": "code",
   "execution_count": 1,
   "metadata": {},
   "outputs": [],
   "source": [
    "import time\n",
    "import mindspore as ms\n",
    "import numpy as np\n",
    "import h5py\n",
    "\n",
    "import sys\n",
    "import os\n",
    "os.environ['MINDSPONGE_HOME']='/home/mindspore/work/summerschool/mindscience/MindSPONGE/src'\n",
    "os.environ['GLOG_v']=str(4)\n",
    "path = os.getenv('MINDSPONGE_HOME')\n",
    "if path:\n",
    "    sys.path.insert(0, path)\n",
    "sys.path.append('../..')\n",
    "data_dir = './data'\n",
    "\n",
    "from mindspore import context\n",
    "from mindspore.nn import Adam\n",
    "from mindspore import Tensor\n",
    "from mindspore import load_checkpoint\n",
    "\n",
    "from sponge import Sponge\n",
    "from sponge import Molecule\n",
    "from sponge import WithEnergyCell\n",
    "from sponge import UpdaterMD\n",
    "from sponge import set_global_units\n",
    "from sponge.colvar import Distance\n",
    "from sponge.colvar import ColvarCombine\n",
    "from sponge.sampling import Metadynamics\n",
    "from sponge.callback import WriteH5MD, RunInfo\n",
    "from sponge.function import VelocityGenerator\n",
    "from sponge.control import VelocityVerlet, Langevin, BerendsenThermostat, LeapFrog\n",
    "from sponge.potential.bias import UpperWall, LowerWall\n",
    "from sponge.data import read_yaml\n",
    "\n",
    "from cybertron.model import MolCT\n",
    "from cybertron.readout import AtomwiseReadout\n",
    "from cybertron import CybertronFF"
   ]
  },
  {
   "cell_type": "markdown",
   "metadata": {},
   "source": [
    "设置单位和模拟的batch数, 步数, 温度, 添加的bias情况, 以及防止文件重复的命名\n",
    "其中nobias不添加偏置势, metad只添加metadynamics偏置势, bias添加metad和几个键的约束防止体系崩溃"
   ]
  },
  {
   "cell_type": "code",
   "execution_count": 2,
   "metadata": {},
   "outputs": [],
   "source": [
    "context.set_context(mode=context.GRAPH_MODE, device_target=\"Ascend\")\n",
    "set_global_units('nm', 'kj/mol')\n",
    "\n",
    "simu_batch = 1\n",
    "simu_step = 1000\n",
    "simu_temp = 800\n",
    "simu_bias = 'bias' # nobias, metad, bias\n",
    "number = '1'"
   ]
  },
  {
   "cell_type": "markdown",
   "metadata": {},
   "source": [
    "设置模拟体系的原子类型和坐标, 因为坐标从已有的轨迹中直接获得, 这里省略最小化步骤"
   ]
  },
  {
   "cell_type": "code",
   "execution_count": 3,
   "metadata": {},
   "outputs": [],
   "source": [
    "atom_types = np.array([8,6,6,6,6,6,6,1,1,1,1,1,1,1,1],dtype=np.int32)\n",
    "atom_types = Tensor(atom_types,dtype=ms.int32)\n",
    "\n",
    "traj_file = data_dir + '/traj/PES_1-10000-800K-bias-NORMAL0.h5md'\n",
    "traj = h5py.File(traj_file)\n",
    "traj_array = np.array(traj['particles/trajectory/position/value'],dtype=float)\n",
    "rand_idx = np.random.choice(traj_array.shape[0], size=simu_batch, replace=False)\n",
    "coordinates = traj_array[rand_idx]\n",
    "rand_coord = Tensor(coordinates, dtype=ms.float32)\n",
    "system = Molecule(atomic_number=atom_types, coordinate=rand_coord)"
   ]
  },
  {
   "cell_type": "markdown",
   "metadata": {},
   "source": [
    "加载模型参数"
   ]
  },
  {
   "cell_type": "code",
   "execution_count": 4,
   "metadata": {},
   "outputs": [
    {
     "name": "stderr",
     "output_type": "stream",
     "text": [
      "[WARNING] ME(3994237:140702532196160,MainProcess):2024-08-20-14:45:02.121.965 [/home/yuansh/mindsponge/tutorials/summerschool2024/../../../cybertron/cybertron/checkpoint.py:279] For 'load_param_into_net', 3 parameters in the 'net' are not loaded, because they are not in the 'parameter_dict', please check whether the network structure is consistent when training and loading checkpoint.\n",
      "[WARNING] ME(3994237:140702532196160,MainProcess):2024-08-20-14:45:02.122.574 [/home/yuansh/mindsponge/tutorials/summerschool2024/../../../cybertron/cybertron/checkpoint.py:284] scaleshift._scale is not loaded.\n",
      "[WARNING] ME(3994237:140702532196160,MainProcess):2024-08-20-14:45:02.122.805 [/home/yuansh/mindsponge/tutorials/summerschool2024/../../../cybertron/cybertron/checkpoint.py:284] scaleshift._shift is not loaded.\n",
      "[WARNING] ME(3994237:140702532196160,MainProcess):2024-08-20-14:45:02.123.030 [/home/yuansh/mindsponge/tutorials/summerschool2024/../../../cybertron/cybertron/checkpoint.py:284] scaleshift._type_ref is not loaded.\n"
     ]
    }
   ],
   "source": [
    "ckpt_file = data_dir + '/ckpt/cybertron-molct-trained-best.ckpt'\n",
    "config_file = data_dir + '/conf/configure_MolCT_trained.yaml'\n",
    "config = read_yaml(config_file)\n",
    "energy = CybertronFF(**config)\n",
    "_ = load_checkpoint(ckpt_file, energy)\n",
    "\n",
    "scales = 4.677139 \n",
    "shifts = -538.89996\n",
    "_ = energy.set_scaleshift(scale=scales, shift=shifts)"
   ]
  },
  {
   "cell_type": "markdown",
   "metadata": {},
   "source": [
    "设置初始速度"
   ]
  },
  {
   "cell_type": "code",
   "execution_count": 5,
   "metadata": {},
   "outputs": [],
   "source": [
    "seed = np.random.randint(1, 1000000)\n",
    "v_gen = VelocityGenerator(simu_temp,seed=seed)\n",
    "velocity = v_gen(system.coordinate.shape, system.atom_mass)"
   ]
  },
  {
   "cell_type": "markdown",
   "metadata": {},
   "source": [
    "偏置势设置"
   ]
  },
  {
   "cell_type": "code",
   "execution_count": 6,
   "metadata": {},
   "outputs": [
    {
     "name": "stdout",
     "output_type": "stream",
     "text": [
      "[WARNING] This module will be removed in a future release, please use `CombineCV` instead.\n"
     ]
    }
   ],
   "source": [
    "d1 = Distance([[5,6]])\n",
    "d2 = Distance([[0,6]])\n",
    "d3 = Distance([[0,2]])\n",
    "d4 = Distance([[2,4]])\n",
    "d5 = Distance([[3,4]])\n",
    "d6 = Distance([[3,5]])\n",
    "\n",
    "combine = ColvarCombine(colvar=[d3,d6],weights=[-1.0, 1.0])\n",
    "metad = Metadynamics(\n",
    "    colvar=combine,\n",
    "    update_pace=20,\n",
    "    height=4,\n",
    "    sigma=0.01,\n",
    "    grid_min=-0.85,\n",
    "    grid_max=0.45,\n",
    "    grid_bin=500,\n",
    "    temperature=300,\n",
    "    bias_factor=50,\n",
    "    num_walker=simu_batch,\n",
    "    share_parameter=False\n",
    ")\n",
    "CV_lwall = LowerWall(\n",
    "    colvar = combine,\n",
    "    boundary = [-0.86],\n",
    "    energy_constant = 1000\n",
    ")\n",
    "CV_uwall = UpperWall(\n",
    "    colvar = combine,\n",
    "    boundary = [0.46],\n",
    "    energy_constant = 1000\n",
    ")\n",
    "\n",
    "u_walls = UpperWall(\n",
    "    colvar=[d1, d5, d6],\n",
    "    boundary=[0.18, 0.2, 0.36],\n",
    "    # depth=[1.0],\n",
    "    energy_constant=[1000, 1000, 1000]\n",
    ")"
   ]
  },
  {
   "cell_type": "markdown",
   "metadata": {},
   "source": [
    "设置控温, 积分器, 模拟步长, 包装模拟用的模型"
   ]
  },
  {
   "cell_type": "code",
   "execution_count": 7,
   "metadata": {},
   "outputs": [],
   "source": [
    "if simu_bias == 'nobias':\n",
    "    sim = WithEnergyCell(system, potential=energy)\n",
    "elif simu_bias == 'metad':\n",
    "    sim = WithEnergyCell(system, potential=energy, bias=[metad])\n",
    "elif simu_bias == 'bias':\n",
    "    sim = WithEnergyCell(system, potential=energy, bias=[metad, u_walls, CV_lwall, CV_uwall])\n",
    "\n",
    "opt = UpdaterMD(\n",
    "    system,\n",
    "    integrator=LeapFrog(system),\n",
    "    thermostat=Langevin(system, temperature=simu_temp, time_constant=0.5),\n",
    "    # thermostat=BerendsenThermostat(system, temperature=simu_temp, time_constant=0.5),\n",
    "    velocity=velocity,\n",
    "    time_step=1e-3,\n",
    ")\n",
    "\n",
    "md = Sponge(sim, optimizer=opt, metrics={'d3': d3, 'd6': d6, 'd2': d2, 'd4': d4})"
   ]
  },
  {
   "cell_type": "markdown",
   "metadata": {},
   "source": [
    "设置轨迹保存路径, 保存间隔等, 以及输出模拟情况的间隔, 开始模拟"
   ]
  },
  {
   "cell_type": "code",
   "execution_count": 8,
   "metadata": {},
   "outputs": [
    {
     "name": "stdout",
     "output_type": "stream",
     "text": [
      "[MindSPONGE] Started simulation at 2024-08-20 14:45:05\n",
      "[MindSPONGE] Step: 200, E_pot: -7038.9165, E_kin: 169.7032, E_tot: -6869.2134, Temperature: 971.9336, d3: 0.5420631, d6: 0.15189676, d2: 0.114215344, d4: 0.13853967\n",
      "[MindSPONGE] Step: 400, E_pot: -7073.061, E_kin: 160.00244, E_tot: -6913.0586, Temperature: 916.3748, d3: 0.4429617, d6: 0.1585966, d2: 0.12645057, d4: 0.13184494\n",
      "[MindSPONGE] Step: 600, E_pot: -7104.879, E_kin: 133.00957, E_tot: -6971.869, Temperature: 761.7797, d3: 0.5770486, d6: 0.14735, d2: 0.12376008, d4: 0.14071643\n",
      "[MindSPONGE] Step: 800, E_pot: -7116.1777, E_kin: 116.714554, E_tot: -6999.4634, Temperature: 668.45404, d3: 0.45754206, d6: 0.1504721, d2: 0.12224847, d4: 0.13215375\n",
      "[MindSPONGE] Step: 1000, E_pot: -7114.125, E_kin: 117.18852, E_tot: -6996.9365, Temperature: 671.1686, d3: 0.54846644, d6: 0.14300211, d2: 0.124665536, d4: 0.13829073\n",
      "[MindSPONGE] Finished simulation at 2024-08-20 14:45:19\n",
      "[MindSPONGE] Simulation time: 14.44 seconds.\n",
      "--------------------------------------------------------------------------------\n",
      "Run Time: 00:00:14\n"
     ]
    }
   ],
   "source": [
    "save_path = data_dir + '/traj/'\n",
    "save_params = str(simu_batch) + '-' + str(simu_step) + '-' + str(simu_temp) + 'K-' + simu_bias + '-' +  number\n",
    "save_file_name = save_path + save_params + '.h5md'\n",
    "cb_h5md = WriteH5MD(system, save_file_name, save_freq=10, write_velocity=True, write_force=True)\n",
    "run_info = RunInfo(200)\n",
    "\n",
    "beg_time = time.time()\n",
    "md.run(simu_step, callbacks=[run_info,cb_h5md])\n",
    "\n",
    "end_time = time.time()\n",
    "\n",
    "used_time = end_time - beg_time\n",
    "m, s = divmod(used_time, 60)\n",
    "h, m = divmod(m, 60)\n",
    "print (\"Run Time: %02d:%02d:%02d\" % (h, m, s))"
   ]
  }
 ],
 "metadata": {
  "kernelspec": {
   "display_name": "ms22_py39",
   "language": "python",
   "name": "python3"
  },
  "language_info": {
   "codemirror_mode": {
    "name": "ipython",
    "version": 3
   },
   "file_extension": ".py",
   "mimetype": "text/x-python",
   "name": "python",
   "nbconvert_exporter": "python",
   "pygments_lexer": "ipython3",
   "version": "3.9.19"
  }
 },
 "nbformat": 4,
 "nbformat_minor": 2
}
